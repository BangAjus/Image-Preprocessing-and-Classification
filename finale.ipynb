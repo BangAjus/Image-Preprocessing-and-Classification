{
 "cells": [
  {
   "cell_type": "code",
   "execution_count": 1,
   "metadata": {},
   "outputs": [],
   "source": [
    "import os\n",
    "from skimage import data, io, feature, util, transform\n",
    "import numpy as np\n",
    "from matplotlib import pyplot as plt\n",
    "import pandas as pd"
   ]
  },
  {
   "attachments": {},
   "cell_type": "markdown",
   "metadata": {},
   "source": [
    "## Image Extraction"
   ]
  },
  {
   "cell_type": "code",
   "execution_count": 2,
   "metadata": {},
   "outputs": [],
   "source": [
    "happy = os.listdir(f'Happy/')\n",
    "sad = os.listdir(f'Sad/')\n",
    "\n",
    "happy = ['Happy/' + i for i in happy]\n",
    "sad = ['Sad/' + i for i in sad]\n",
    "\n",
    "happy = np.array([io.imread(i, as_gray=True) for i in happy])\n",
    "sad = np.array([io.imread(i, as_gray=True) for i in sad])"
   ]
  },
  {
   "attachments": {},
   "cell_type": "markdown",
   "metadata": {},
   "source": [
    "## Process Image to Dataframe"
   ]
  },
  {
   "cell_type": "code",
   "execution_count": 3,
   "metadata": {},
   "outputs": [],
   "source": [
    "features = ['dissimilarity', 'correlation', 'homogeneity', 'contrast', 'ASM', 'energy']\n",
    "angle = [0, 45, 90, 135, 180]\n",
    "\n",
    "df = {}\n",
    "\n",
    "for i in features:\n",
    "    for j in angle:\n",
    "\n",
    "        df[i.capitalize() + str(j)] = np.array([])\n",
    "\n",
    "df['Label'] = np.array([])\n",
    "\n",
    "for i in happy:\n",
    "    \n",
    "    for j in range(len(features)):\n",
    "\n",
    "        a = feature.graycomatrix(i, distances=[1], angles=angle, levels=256,\n",
    "                            symmetric=True, normed=True)\n",
    "        a = feature.graycoprops(a, prop=features[j]).flatten()\n",
    "        \n",
    "        for k in range(len(angle)):\n",
    "\n",
    "            df[features[j].capitalize() + str(angle[k])] = np.append(a[k], df[features[j].capitalize() + str(angle[k])])\n",
    "    df['Label'] = np.append('Happy', df['Label'])\n",
    "\n",
    "for i in sad:\n",
    "    \n",
    "    for j in range(len(features)):\n",
    "        \n",
    "        a = feature.graycomatrix(i, distances=[2], angles=angle, levels=256,\n",
    "                            symmetric=True, normed=True)\n",
    "        a = feature.graycoprops(a, prop=features[j]).flatten()\n",
    "        \n",
    "        for k in range(len(angle)):\n",
    "\n",
    "            df[features[j].capitalize() + str(angle[k])] = np.append(a[k], df[features[j].capitalize() + str(angle[k])])\n",
    "    df['Label'] = np.append('Sad', df['Label'])\n",
    "\n",
    "df = pd.DataFrame(df)"
   ]
  },
  {
   "attachments": {},
   "cell_type": "markdown",
   "metadata": {},
   "source": [
    "## Make Preprocessing Function pt. 1"
   ]
  },
  {
   "cell_type": "code",
   "execution_count": 4,
   "metadata": {},
   "outputs": [],
   "source": [
    "def preprocessing_1(photo_dir):\n",
    "    \n",
    "    from skimage import data, io, feature, util, transform\n",
    "    import numpy as np\n",
    "    \n",
    "    features = ['dissimilarity', 'correlation', 'homogeneity', 'contrast', 'ASM', 'energy']\n",
    "    angle = [0, 45, 90, 135, 180]\n",
    "\n",
    "    res = np.array([])\n",
    "    \n",
    "    for j in features:\n",
    "        \n",
    "        a = feature.graycomatrix(photo_dir, distances=[2], angles=angle, levels=256,\n",
    "                            symmetric=True, normed=True)\n",
    "        a = feature.graycoprops(a, prop=features[j]).flatten()\n",
    "\n",
    "        for k in range(len(angle)):\n",
    "\n",
    "            res = np.append(a[k], res)\n",
    "    \n",
    "    return res"
   ]
  },
  {
   "attachments": {},
   "cell_type": "markdown",
   "metadata": {},
   "source": [
    "## Make Train and Test Data"
   ]
  },
  {
   "cell_type": "code",
   "execution_count": 5,
   "metadata": {},
   "outputs": [],
   "source": [
    "from sklearn.model_selection import train_test_split\n",
    "from sklearn.preprocessing import LabelEncoder, StandardScaler\n",
    "\n",
    "X, y = df.drop(columns=['Label']), df['Label']\n",
    "sc =  StandardScaler()\n",
    "X = sc.fit_transform(X)\n",
    "le = LabelEncoder()\n",
    "y = le.fit_transform(y)\n",
    "X_train, X_test, y_train, y_test = train_test_split(X, y,\n",
    "                                                    test_size=0.25,\n",
    "                                                    random_state=0)"
   ]
  },
  {
   "cell_type": "code",
   "execution_count": 6,
   "metadata": {},
   "outputs": [
    {
     "data": {
      "text/html": [
       "<div>\n",
       "<style scoped>\n",
       "    .dataframe tbody tr th:only-of-type {\n",
       "        vertical-align: middle;\n",
       "    }\n",
       "\n",
       "    .dataframe tbody tr th {\n",
       "        vertical-align: top;\n",
       "    }\n",
       "\n",
       "    .dataframe thead th {\n",
       "        text-align: right;\n",
       "    }\n",
       "</style>\n",
       "<table border=\"1\" class=\"dataframe\">\n",
       "  <thead>\n",
       "    <tr style=\"text-align: right;\">\n",
       "      <th></th>\n",
       "      <th>Dissimilarity0</th>\n",
       "      <th>Dissimilarity45</th>\n",
       "      <th>Dissimilarity90</th>\n",
       "      <th>Dissimilarity135</th>\n",
       "      <th>Dissimilarity180</th>\n",
       "      <th>Correlation0</th>\n",
       "      <th>Correlation45</th>\n",
       "      <th>Correlation90</th>\n",
       "      <th>Correlation135</th>\n",
       "      <th>Correlation180</th>\n",
       "      <th>...</th>\n",
       "      <th>Asm45</th>\n",
       "      <th>Asm90</th>\n",
       "      <th>Asm135</th>\n",
       "      <th>Asm180</th>\n",
       "      <th>Energy0</th>\n",
       "      <th>Energy45</th>\n",
       "      <th>Energy90</th>\n",
       "      <th>Energy135</th>\n",
       "      <th>Energy180</th>\n",
       "      <th>Label</th>\n",
       "    </tr>\n",
       "  </thead>\n",
       "  <tbody>\n",
       "    <tr>\n",
       "      <th>0</th>\n",
       "      <td>22.927083</td>\n",
       "      <td>30.656337</td>\n",
       "      <td>29.461610</td>\n",
       "      <td>22.927083</td>\n",
       "      <td>30.656337</td>\n",
       "      <td>0.781705</td>\n",
       "      <td>0.617046</td>\n",
       "      <td>0.640733</td>\n",
       "      <td>0.781705</td>\n",
       "      <td>0.617046</td>\n",
       "      <td>...</td>\n",
       "      <td>0.000324</td>\n",
       "      <td>0.000322</td>\n",
       "      <td>0.000354</td>\n",
       "      <td>0.000324</td>\n",
       "      <td>0.018816</td>\n",
       "      <td>0.018006</td>\n",
       "      <td>0.017941</td>\n",
       "      <td>0.018816</td>\n",
       "      <td>0.018006</td>\n",
       "      <td>Sad</td>\n",
       "    </tr>\n",
       "    <tr>\n",
       "      <th>1</th>\n",
       "      <td>11.473732</td>\n",
       "      <td>12.472710</td>\n",
       "      <td>12.368178</td>\n",
       "      <td>11.473732</td>\n",
       "      <td>12.472710</td>\n",
       "      <td>0.640341</td>\n",
       "      <td>0.597313</td>\n",
       "      <td>0.619094</td>\n",
       "      <td>0.640341</td>\n",
       "      <td>0.597313</td>\n",
       "      <td>...</td>\n",
       "      <td>0.000638</td>\n",
       "      <td>0.000603</td>\n",
       "      <td>0.000719</td>\n",
       "      <td>0.000638</td>\n",
       "      <td>0.026823</td>\n",
       "      <td>0.025269</td>\n",
       "      <td>0.024549</td>\n",
       "      <td>0.026823</td>\n",
       "      <td>0.025269</td>\n",
       "      <td>Sad</td>\n",
       "    </tr>\n",
       "    <tr>\n",
       "      <th>2</th>\n",
       "      <td>13.730525</td>\n",
       "      <td>14.517576</td>\n",
       "      <td>13.694265</td>\n",
       "      <td>13.730525</td>\n",
       "      <td>14.517576</td>\n",
       "      <td>0.767347</td>\n",
       "      <td>0.711087</td>\n",
       "      <td>0.742162</td>\n",
       "      <td>0.767347</td>\n",
       "      <td>0.711087</td>\n",
       "      <td>...</td>\n",
       "      <td>0.000445</td>\n",
       "      <td>0.000452</td>\n",
       "      <td>0.000436</td>\n",
       "      <td>0.000445</td>\n",
       "      <td>0.020875</td>\n",
       "      <td>0.021100</td>\n",
       "      <td>0.021262</td>\n",
       "      <td>0.020875</td>\n",
       "      <td>0.021100</td>\n",
       "      <td>Sad</td>\n",
       "    </tr>\n",
       "    <tr>\n",
       "      <th>3</th>\n",
       "      <td>28.532609</td>\n",
       "      <td>29.163737</td>\n",
       "      <td>27.483349</td>\n",
       "      <td>28.532609</td>\n",
       "      <td>29.163737</td>\n",
       "      <td>0.762508</td>\n",
       "      <td>0.726521</td>\n",
       "      <td>0.770769</td>\n",
       "      <td>0.762508</td>\n",
       "      <td>0.726521</td>\n",
       "      <td>...</td>\n",
       "      <td>0.000294</td>\n",
       "      <td>0.000301</td>\n",
       "      <td>0.000288</td>\n",
       "      <td>0.000294</td>\n",
       "      <td>0.016958</td>\n",
       "      <td>0.017151</td>\n",
       "      <td>0.017353</td>\n",
       "      <td>0.016958</td>\n",
       "      <td>0.017151</td>\n",
       "      <td>Sad</td>\n",
       "    </tr>\n",
       "    <tr>\n",
       "      <th>4</th>\n",
       "      <td>26.992754</td>\n",
       "      <td>32.218779</td>\n",
       "      <td>32.457447</td>\n",
       "      <td>26.992754</td>\n",
       "      <td>32.218779</td>\n",
       "      <td>0.762148</td>\n",
       "      <td>0.680280</td>\n",
       "      <td>0.668240</td>\n",
       "      <td>0.762148</td>\n",
       "      <td>0.680280</td>\n",
       "      <td>...</td>\n",
       "      <td>0.000326</td>\n",
       "      <td>0.000329</td>\n",
       "      <td>0.000325</td>\n",
       "      <td>0.000326</td>\n",
       "      <td>0.018034</td>\n",
       "      <td>0.018042</td>\n",
       "      <td>0.018125</td>\n",
       "      <td>0.018034</td>\n",
       "      <td>0.018042</td>\n",
       "      <td>Sad</td>\n",
       "    </tr>\n",
       "  </tbody>\n",
       "</table>\n",
       "<p>5 rows × 31 columns</p>\n",
       "</div>"
      ],
      "text/plain": [
       "   Dissimilarity0  Dissimilarity45  Dissimilarity90  Dissimilarity135  \\\n",
       "0       22.927083        30.656337        29.461610         22.927083   \n",
       "1       11.473732        12.472710        12.368178         11.473732   \n",
       "2       13.730525        14.517576        13.694265         13.730525   \n",
       "3       28.532609        29.163737        27.483349         28.532609   \n",
       "4       26.992754        32.218779        32.457447         26.992754   \n",
       "\n",
       "   Dissimilarity180  Correlation0  Correlation45  Correlation90  \\\n",
       "0         30.656337      0.781705       0.617046       0.640733   \n",
       "1         12.472710      0.640341       0.597313       0.619094   \n",
       "2         14.517576      0.767347       0.711087       0.742162   \n",
       "3         29.163737      0.762508       0.726521       0.770769   \n",
       "4         32.218779      0.762148       0.680280       0.668240   \n",
       "\n",
       "   Correlation135  Correlation180  ...     Asm45     Asm90    Asm135  \\\n",
       "0        0.781705        0.617046  ...  0.000324  0.000322  0.000354   \n",
       "1        0.640341        0.597313  ...  0.000638  0.000603  0.000719   \n",
       "2        0.767347        0.711087  ...  0.000445  0.000452  0.000436   \n",
       "3        0.762508        0.726521  ...  0.000294  0.000301  0.000288   \n",
       "4        0.762148        0.680280  ...  0.000326  0.000329  0.000325   \n",
       "\n",
       "     Asm180   Energy0  Energy45  Energy90  Energy135  Energy180  Label  \n",
       "0  0.000324  0.018816  0.018006  0.017941   0.018816   0.018006    Sad  \n",
       "1  0.000638  0.026823  0.025269  0.024549   0.026823   0.025269    Sad  \n",
       "2  0.000445  0.020875  0.021100  0.021262   0.020875   0.021100    Sad  \n",
       "3  0.000294  0.016958  0.017151  0.017353   0.016958   0.017151    Sad  \n",
       "4  0.000326  0.018034  0.018042  0.018125   0.018034   0.018042    Sad  \n",
       "\n",
       "[5 rows x 31 columns]"
      ]
     },
     "execution_count": 6,
     "metadata": {},
     "output_type": "execute_result"
    }
   ],
   "source": [
    "df.head()"
   ]
  },
  {
   "attachments": {},
   "cell_type": "markdown",
   "metadata": {},
   "source": [
    "## Make Neural Network Model"
   ]
  },
  {
   "cell_type": "code",
   "execution_count": 7,
   "metadata": {},
   "outputs": [],
   "source": [
    "from tensorflow.keras import Sequential, layers\n",
    "\n",
    "model = Sequential([\n",
    "    layers.Dense(30, activation='relu'),\n",
    "    layers.Dense(256, activation='relu'),\n",
    "    layers.Dense(512, activation='relu'),\n",
    "    layers.Dense(1024, activation='relu'),\n",
    "    layers.Dropout(0.25),\n",
    "    layers.Dense(1024, activation='relu'),\n",
    "    layers.Dense(512, activation='relu'),\n",
    "    layers.Dense(256, activation='relu'),\n",
    "    layers.Dense(2, activation='sigmoid')\n",
    "])\n",
    "\n",
    "model.compile(optimizer='adam',\n",
    "              loss='sparse_categorical_crossentropy',\n",
    "              metrics=['accuracy'])"
   ]
  },
  {
   "cell_type": "code",
   "execution_count": 8,
   "metadata": {},
   "outputs": [
    {
     "name": "stdout",
     "output_type": "stream",
     "text": [
      "Epoch 1/50\n",
      "71/71 [==============================] - 5s 36ms/step - loss: 0.1915 - accuracy: 0.9386\n",
      "Epoch 2/50\n",
      "71/71 [==============================] - 2s 35ms/step - loss: 0.0714 - accuracy: 0.9782\n",
      "Epoch 3/50\n",
      "71/71 [==============================] - 2s 35ms/step - loss: 0.0611 - accuracy: 0.9795\n",
      "Epoch 4/50\n",
      "71/71 [==============================] - 3s 35ms/step - loss: 0.0373 - accuracy: 0.9849\n",
      "Epoch 5/50\n",
      "71/71 [==============================] - 2s 35ms/step - loss: 0.0491 - accuracy: 0.9831\n",
      "Epoch 6/50\n",
      "71/71 [==============================] - 2s 35ms/step - loss: 0.0390 - accuracy: 0.9907\n",
      "Epoch 7/50\n",
      "71/71 [==============================] - 3s 37ms/step - loss: 0.0385 - accuracy: 0.9835\n",
      "Epoch 8/50\n",
      "71/71 [==============================] - 3s 38ms/step - loss: 0.0251 - accuracy: 0.9920\n",
      "Epoch 9/50\n",
      "71/71 [==============================] - 3s 36ms/step - loss: 0.0307 - accuracy: 0.9875\n",
      "Epoch 10/50\n",
      "71/71 [==============================] - 3s 36ms/step - loss: 0.0264 - accuracy: 0.9924\n",
      "Epoch 11/50\n",
      "71/71 [==============================] - 3s 38ms/step - loss: 0.0243 - accuracy: 0.9920\n",
      "Epoch 12/50\n",
      "71/71 [==============================] - 3s 38ms/step - loss: 0.0242 - accuracy: 0.9929\n",
      "Epoch 13/50\n",
      "71/71 [==============================] - 3s 36ms/step - loss: 0.0279 - accuracy: 0.9907\n",
      "Epoch 14/50\n",
      "71/71 [==============================] - 3s 36ms/step - loss: 0.0234 - accuracy: 0.9920\n",
      "Epoch 15/50\n",
      "71/71 [==============================] - 3s 37ms/step - loss: 0.0299 - accuracy: 0.9907\n",
      "Epoch 16/50\n",
      "71/71 [==============================] - 3s 37ms/step - loss: 0.0173 - accuracy: 0.9929\n",
      "Epoch 17/50\n",
      "71/71 [==============================] - 3s 37ms/step - loss: 0.0163 - accuracy: 0.9942\n",
      "Epoch 18/50\n",
      "71/71 [==============================] - 3s 36ms/step - loss: 0.0363 - accuracy: 0.9924\n",
      "Epoch 19/50\n",
      "71/71 [==============================] - 3s 36ms/step - loss: 0.0507 - accuracy: 0.9862\n",
      "Epoch 20/50\n",
      "71/71 [==============================] - 3s 36ms/step - loss: 0.0228 - accuracy: 0.9907\n",
      "Epoch 21/50\n",
      "71/71 [==============================] - 3s 36ms/step - loss: 0.0361 - accuracy: 0.9902\n",
      "Epoch 22/50\n",
      "71/71 [==============================] - 3s 36ms/step - loss: 0.0618 - accuracy: 0.9853\n",
      "Epoch 23/50\n",
      "71/71 [==============================] - 3s 36ms/step - loss: 0.0306 - accuracy: 0.9898\n",
      "Epoch 24/50\n",
      "71/71 [==============================] - 3s 36ms/step - loss: 0.0423 - accuracy: 0.9813\n",
      "Epoch 25/50\n",
      "71/71 [==============================] - 3s 36ms/step - loss: 0.0167 - accuracy: 0.9929\n",
      "Epoch 26/50\n",
      "71/71 [==============================] - 3s 36ms/step - loss: 0.0107 - accuracy: 0.9947\n",
      "Epoch 27/50\n",
      "71/71 [==============================] - 3s 36ms/step - loss: 0.0221 - accuracy: 0.9929\n",
      "Epoch 28/50\n",
      "71/71 [==============================] - 3s 36ms/step - loss: 0.0114 - accuracy: 0.9947\n",
      "Epoch 29/50\n",
      "71/71 [==============================] - 3s 38ms/step - loss: 0.0290 - accuracy: 0.9889\n",
      "Epoch 30/50\n",
      "71/71 [==============================] - 3s 37ms/step - loss: 0.0136 - accuracy: 0.9960\n",
      "Epoch 31/50\n",
      "71/71 [==============================] - 2s 35ms/step - loss: 0.0324 - accuracy: 0.9898\n",
      "Epoch 32/50\n",
      "71/71 [==============================] - 2s 35ms/step - loss: 0.0116 - accuracy: 0.9951\n",
      "Epoch 33/50\n",
      "71/71 [==============================] - 2s 35ms/step - loss: 0.0213 - accuracy: 0.9942\n",
      "Epoch 34/50\n",
      "71/71 [==============================] - 2s 35ms/step - loss: 0.0154 - accuracy: 0.9960\n",
      "Epoch 35/50\n",
      "71/71 [==============================] - 2s 34ms/step - loss: 0.0203 - accuracy: 0.9915\n",
      "Epoch 36/50\n",
      "71/71 [==============================] - 2s 35ms/step - loss: 0.0158 - accuracy: 0.9933\n",
      "Epoch 37/50\n",
      "71/71 [==============================] - 2s 35ms/step - loss: 0.0055 - accuracy: 0.9973\n",
      "Epoch 38/50\n",
      "71/71 [==============================] - 2s 35ms/step - loss: 0.0037 - accuracy: 0.9982\n",
      "Epoch 39/50\n",
      "71/71 [==============================] - 2s 35ms/step - loss: 0.0163 - accuracy: 0.9973\n",
      "Epoch 40/50\n",
      "71/71 [==============================] - 2s 35ms/step - loss: 0.0275 - accuracy: 0.9929\n",
      "Epoch 41/50\n",
      "71/71 [==============================] - 2s 35ms/step - loss: 0.0134 - accuracy: 0.9969\n",
      "Epoch 42/50\n",
      "71/71 [==============================] - 2s 35ms/step - loss: 0.0135 - accuracy: 0.9956\n",
      "Epoch 43/50\n",
      "71/71 [==============================] - 2s 35ms/step - loss: 0.0082 - accuracy: 0.9973\n",
      "Epoch 44/50\n",
      "71/71 [==============================] - 2s 35ms/step - loss: 0.0053 - accuracy: 0.9978\n",
      "Epoch 45/50\n",
      "71/71 [==============================] - 3s 38ms/step - loss: 0.0131 - accuracy: 0.9960\n",
      "Epoch 46/50\n",
      "71/71 [==============================] - 3s 37ms/step - loss: 0.0601 - accuracy: 0.9893\n",
      "Epoch 47/50\n",
      "71/71 [==============================] - 3s 36ms/step - loss: 0.0303 - accuracy: 0.9929\n",
      "Epoch 48/50\n",
      "71/71 [==============================] - 3s 36ms/step - loss: 0.0404 - accuracy: 0.9911\n",
      "Epoch 49/50\n",
      "71/71 [==============================] - 3s 36ms/step - loss: 0.0144 - accuracy: 0.9933\n",
      "Epoch 50/50\n",
      "71/71 [==============================] - 3s 36ms/step - loss: 0.1119 - accuracy: 0.9862\n"
     ]
    },
    {
     "data": {
      "text/plain": [
       "<keras.callbacks.History at 0x1e210589d90>"
      ]
     },
     "execution_count": 8,
     "metadata": {},
     "output_type": "execute_result"
    }
   ],
   "source": [
    "model.fit(X_train, y_train, epochs=50)"
   ]
  },
  {
   "attachments": {},
   "cell_type": "markdown",
   "metadata": {},
   "source": [
    "## Evaluate The Model"
   ]
  },
  {
   "cell_type": "code",
   "execution_count": 9,
   "metadata": {},
   "outputs": [
    {
     "name": "stdout",
     "output_type": "stream",
     "text": [
      "24/24 [==============================] - 1s 7ms/step - loss: 0.1812 - accuracy: 0.9853\n"
     ]
    },
    {
     "data": {
      "text/plain": [
       "[0.18123988807201385, 0.9853333234786987]"
      ]
     },
     "execution_count": 9,
     "metadata": {},
     "output_type": "execute_result"
    }
   ],
   "source": [
    "model.evaluate(X_test, y_test)"
   ]
  },
  {
   "cell_type": "code",
   "execution_count": 10,
   "metadata": {},
   "outputs": [
    {
     "name": "stdout",
     "output_type": "stream",
     "text": [
      "24/24 [==============================] - 0s 9ms/step\n"
     ]
    },
    {
     "data": {
      "text/html": [
       "<div>\n",
       "<style scoped>\n",
       "    .dataframe tbody tr th:only-of-type {\n",
       "        vertical-align: middle;\n",
       "    }\n",
       "\n",
       "    .dataframe tbody tr th {\n",
       "        vertical-align: top;\n",
       "    }\n",
       "\n",
       "    .dataframe thead th {\n",
       "        text-align: right;\n",
       "    }\n",
       "</style>\n",
       "<table border=\"1\" class=\"dataframe\">\n",
       "  <thead>\n",
       "    <tr style=\"text-align: right;\">\n",
       "      <th></th>\n",
       "      <th>Accuracy</th>\n",
       "      <th>Precision</th>\n",
       "      <th>Recall</th>\n",
       "      <th>F1</th>\n",
       "    </tr>\n",
       "  </thead>\n",
       "  <tbody>\n",
       "    <tr>\n",
       "      <th>0</th>\n",
       "      <td>0.985333</td>\n",
       "      <td>0.985507</td>\n",
       "      <td>0.982659</td>\n",
       "      <td>0.984081</td>\n",
       "    </tr>\n",
       "    <tr>\n",
       "      <th>1</th>\n",
       "      <td>0.985333</td>\n",
       "      <td>0.985185</td>\n",
       "      <td>0.987624</td>\n",
       "      <td>0.986403</td>\n",
       "    </tr>\n",
       "  </tbody>\n",
       "</table>\n",
       "</div>"
      ],
      "text/plain": [
       "   Accuracy  Precision    Recall        F1\n",
       "0  0.985333   0.985507  0.982659  0.984081\n",
       "1  0.985333   0.985185  0.987624  0.986403"
      ]
     },
     "execution_count": 10,
     "metadata": {},
     "output_type": "execute_result"
    }
   ],
   "source": [
    "from sklearn.metrics import accuracy_score, precision_score, recall_score, f1_score\n",
    "y_pred = model.predict(X_test)\n",
    "y_predi = y_pred[:, 0] < y_pred[:, 1]\n",
    "for i in range(len(y_predi)):\n",
    "    y_predi[i] = int(y_predi[i])\n",
    "        \n",
    "score = {'Accuracy':accuracy_score(y_test, y_predi),\n",
    "         'Precision':precision_score(y_test, y_predi, average=None),\n",
    "         'Recall':recall_score(y_test, y_predi, average=None),\n",
    "         'F1':f1_score(y_test, y_predi, average=None),\n",
    "         }\n",
    "pd.DataFrame(score)"
   ]
  },
  {
   "cell_type": "code",
   "execution_count": 11,
   "metadata": {},
   "outputs": [
    {
     "data": {
      "text/html": [
       "<div>\n",
       "<style scoped>\n",
       "    .dataframe tbody tr th:only-of-type {\n",
       "        vertical-align: middle;\n",
       "    }\n",
       "\n",
       "    .dataframe tbody tr th {\n",
       "        vertical-align: top;\n",
       "    }\n",
       "\n",
       "    .dataframe thead th {\n",
       "        text-align: right;\n",
       "    }\n",
       "</style>\n",
       "<table border=\"1\" class=\"dataframe\">\n",
       "  <thead>\n",
       "    <tr style=\"text-align: right;\">\n",
       "      <th></th>\n",
       "      <th>Accuracy</th>\n",
       "      <th>Precision</th>\n",
       "      <th>Recall</th>\n",
       "      <th>F1</th>\n",
       "    </tr>\n",
       "  </thead>\n",
       "  <tbody>\n",
       "    <tr>\n",
       "      <th>0</th>\n",
       "      <td>0.985333</td>\n",
       "      <td>0.985346</td>\n",
       "      <td>0.985141</td>\n",
       "      <td>0.985242</td>\n",
       "    </tr>\n",
       "  </tbody>\n",
       "</table>\n",
       "</div>"
      ],
      "text/plain": [
       "   Accuracy  Precision    Recall        F1\n",
       "0  0.985333   0.985346  0.985141  0.985242"
      ]
     },
     "execution_count": 11,
     "metadata": {},
     "output_type": "execute_result"
    }
   ],
   "source": [
    "avg = {'Accuracy':[pd.DataFrame(score)['Accuracy'].mean()],\n",
    "       'Precision':[pd.DataFrame(score)['Precision'].mean()],\n",
    "       'Recall':[pd.DataFrame(score)['Recall'].mean()],\n",
    "       'F1':[pd.DataFrame(score)['F1'].mean()]}\n",
    "\n",
    "pd.DataFrame(avg)"
   ]
  },
  {
   "cell_type": "code",
   "execution_count": 12,
   "metadata": {},
   "outputs": [
    {
     "data": {
      "text/plain": [
       "(30,)"
      ]
     },
     "execution_count": 12,
     "metadata": {},
     "output_type": "execute_result"
    }
   ],
   "source": [
    "X_train[0].shape"
   ]
  },
  {
   "attachments": {},
   "cell_type": "markdown",
   "metadata": {},
   "source": [
    "## Save Preprocessing and Model into .pkl Extension"
   ]
  },
  {
   "cell_type": "code",
   "execution_count": 13,
   "metadata": {},
   "outputs": [
    {
     "name": "stdout",
     "output_type": "stream",
     "text": [
      "Model: \"sequential\"\n",
      "_________________________________________________________________\n",
      " Layer (type)                Output Shape              Param #   \n",
      "=================================================================\n",
      " dense (Dense)               (None, 30)                930       \n",
      "                                                                 \n",
      " dense_1 (Dense)             (None, 256)               7936      \n",
      "                                                                 \n",
      " dense_2 (Dense)             (None, 512)               131584    \n",
      "                                                                 \n",
      " dense_3 (Dense)             (None, 1024)              525312    \n",
      "                                                                 \n",
      " dropout (Dropout)           (None, 1024)              0         \n",
      "                                                                 \n",
      " dense_4 (Dense)             (None, 1024)              1049600   \n",
      "                                                                 \n",
      " dense_5 (Dense)             (None, 512)               524800    \n",
      "                                                                 \n",
      " dense_6 (Dense)             (None, 256)               131328    \n",
      "                                                                 \n",
      " dense_7 (Dense)             (None, 2)                 514       \n",
      "                                                                 \n",
      "=================================================================\n",
      "Total params: 2,372,004\n",
      "Trainable params: 2,372,004\n",
      "Non-trainable params: 0\n",
      "_________________________________________________________________\n"
     ]
    }
   ],
   "source": [
    "model.summary()"
   ]
  },
  {
   "cell_type": "code",
   "execution_count": 14,
   "metadata": {},
   "outputs": [],
   "source": [
    "from pickle import dump\n",
    "dump(model, open('model.pkl', 'wb'))\n",
    "dump(sc, open('scaling.pkl', 'wb'))\n",
    "dump(le, open('label.pkl', 'wb'))"
   ]
  },
  {
   "cell_type": "code",
   "execution_count": 40,
   "metadata": {},
   "outputs": [
    {
     "name": "stdout",
     "output_type": "stream",
     "text": [
      "1/1 [==============================] - 0s 45ms/step\n"
     ]
    },
    {
     "name": "stderr",
     "output_type": "stream",
     "text": [
      "C:\\Users\\User\\AppData\\Local\\Programs\\Python\\Python38\\lib\\site-packages\\sklearn\\base.py:439: UserWarning: X does not have valid feature names, but StandardScaler was fitted with feature names\n",
      "  warnings.warn(\n"
     ]
    },
    {
     "data": {
      "text/plain": [
       "array([[3.4062323e-34, 1.0000000e+00]], dtype=float32)"
      ]
     },
     "execution_count": 40,
     "metadata": {},
     "output_type": "execute_result"
    }
   ],
   "source": [
    "model.predict(np.array(sc.transform(np.array([df.drop(columns=['Label']).iloc[3]]))))"
   ]
  }
 ],
 "metadata": {
  "kernelspec": {
   "display_name": "Python 3 (ipykernel)",
   "language": "python",
   "name": "python3"
  },
  "language_info": {
   "codemirror_mode": {
    "name": "ipython",
    "version": 3
   },
   "file_extension": ".py",
   "mimetype": "text/x-python",
   "name": "python",
   "nbconvert_exporter": "python",
   "pygments_lexer": "ipython3",
   "version": "3.8.4"
  },
  "orig_nbformat": 4
 },
 "nbformat": 4,
 "nbformat_minor": 2
}
